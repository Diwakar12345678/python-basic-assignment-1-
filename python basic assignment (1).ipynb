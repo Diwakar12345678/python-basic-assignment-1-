{
 "cells": [
  {
   "cell_type": "code",
   "execution_count": null,
   "id": "d4fb1d40-c40f-4b82-a8d6-dc063f674494",
   "metadata": {},
   "outputs": [],
   "source": [
    "#write all convention being followed while declaring a variable\n",
    "Ans - A variable name must start with a letter or an underscore character(_).avariable name cannot start \n",
    "       with a digit. A variable name can only conatain a alpha numeric character and underscore.\n",
    "       variable names are case sensitive.\n"
   ]
  },
  {
   "cell_type": "code",
   "execution_count": null,
   "id": "b3c953fe-dd47-4b86-b197-4097529da673",
   "metadata": {},
   "outputs": [],
   "source": [
    "#what will happen if we declare a restricted keyword as a variable?\n",
    "Ans - it will raise an error."
   ]
  },
  {
   "cell_type": "code",
   "execution_count": null,
   "id": "14c2b390-7d7d-47d9-8370-e326cf4be3a5",
   "metadata": {},
   "outputs": [],
   "source": [
    "#can we actually declare a string as a variable name?\n",
    "Ans - yes."
   ]
  },
  {
   "cell_type": "code",
   "execution_count": null,
   "id": "18ca955d-2d64-402e-8b83-6c1a08000afb",
   "metadata": {},
   "outputs": [],
   "source": [
    "#Is it possible for us to declare \"_\" as a variable ? if so, then write an example.\n",
    "Ans-yes , _Diwakar"
   ]
  },
  {
   "cell_type": "code",
   "execution_count": null,
   "id": "1d9f1465-0942-43bf-9504-f21adb294d13",
   "metadata": {},
   "outputs": [],
   "source": [
    "#Using an example, explain how the variables in python are dynamic in nature?\n",
    "Ans-because we can take input from user and can change while we have needed\n",
    "     x = input(\"enter number:\")"
   ]
  }
 ],
 "metadata": {
  "kernelspec": {
   "display_name": "Python 3 (ipykernel)",
   "language": "python",
   "name": "python3"
  },
  "language_info": {
   "codemirror_mode": {
    "name": "ipython",
    "version": 3
   },
   "file_extension": ".py",
   "mimetype": "text/x-python",
   "name": "python",
   "nbconvert_exporter": "python",
   "pygments_lexer": "ipython3",
   "version": "3.10.8"
  }
 },
 "nbformat": 4,
 "nbformat_minor": 5
}
